{
 "cells": [
  {
   "cell_type": "code",
   "execution_count": 1,
   "metadata": {},
   "outputs": [
    {
     "name": "stdout",
     "output_type": "stream",
     "text": [
      "Output is :  43\n"
     ]
    }
   ],
   "source": [
    "def myreduce(func1, input_list):\n",
    "    sum1 = 0\n",
    "    i = 0\n",
    "    while i < len(input_list):\n",
    "        x = sum1\n",
    "        y = input_list[i]\n",
    "        sum1 = func1(x,y)\n",
    "        i += 1\n",
    "    return sum1\n",
    "\n",
    "if __name__ == '__main__':\n",
    "    print(\"Output is : \" , myreduce(lambda m,n: m+n , [2,6,4,9,6,7,9]))"
   ]
  },
  {
   "cell_type": "code",
   "execution_count": 2,
   "metadata": {},
   "outputs": [
    {
     "name": "stdout",
     "output_type": "stream",
     "text": [
      "Output is :  [2, 6, 4, 6]\n"
     ]
    }
   ],
   "source": [
    "def myfilter(func1, input_list):\n",
    "    filtered_output = []\n",
    "    i = 0\n",
    "    while i < len(input_list):\n",
    "        result = func1(input_list[i])\n",
    "        if result == True:\n",
    "            filtered_output.append(input_list[i])\n",
    "        i += 1\n",
    "    return filtered_output\n",
    "\n",
    "if __name__ == '__main__':\n",
    "    print(\"Output is : \" , myfilter(lambda m: True if m % 2 == 0 else False , [2,5,6,4,9,6,7,9]))"
   ]
  },
  {
   "cell_type": "code",
   "execution_count": 3,
   "metadata": {},
   "outputs": [
    {
     "data": {
      "text/plain": [
       "[(1, 1), (2, 1), (3, 1), (1, 2), (2, 2), (3, 2), (1, 3), (2, 3), (3, 3)]"
      ]
     },
     "execution_count": 3,
     "metadata": {},
     "output_type": "execute_result"
    }
   ],
   "source": [
    "['A', 'C', 'A', 'D', 'G', 'I', 'L', 'D']\n",
    "['x', 'xx', 'xxx', 'xxxx', 'y', 'yy', 'yyy', 'yyyy', 'z', 'zz', 'zzz', 'zzzz']\n",
    "['x', 'y', 'z', 'xx', 'yy', 'zz', 'xxx', 'yyy', 'zzz', 'xxxx', 'yyyy', 'zzzz']\n",
    "[[2], [3], [4], [3], [4], [5], [4], [5], [6]]\n",
    "[[2, 3, 4, 5], [3, 4, 5, 6], [4, 5, 6, 7], [5, 6, 7, 8]]\n",
    "[(1, 1), (2, 1), (3, 1), (1, 2), (2, 2), (3, 2), (1, 3), (2, 3), (3, 3)]"
   ]
  }
 ],
 "metadata": {
  "kernelspec": {
   "display_name": "Python 3",
   "language": "python",
   "name": "python3"
  },
  "language_info": {
   "codemirror_mode": {
    "name": "ipython",
    "version": 3
   },
   "file_extension": ".py",
   "mimetype": "text/x-python",
   "name": "python",
   "nbconvert_exporter": "python",
   "pygments_lexer": "ipython3",
   "version": "3.7.6"
  }
 },
 "nbformat": 4,
 "nbformat_minor": 4
}
